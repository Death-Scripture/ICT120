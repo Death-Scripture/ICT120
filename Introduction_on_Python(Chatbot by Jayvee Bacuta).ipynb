{
  "nbformat": 4,
  "nbformat_minor": 0,
  "metadata": {
    "colab": {
      "name": "Introduction on Python (Chatbot).ipynb",
      "provenance": [],
      "collapsed_sections": [],
      "authorship_tag": "ABX9TyMw16j0Od6lAuTQEkUwvxT1",
      "include_colab_link": true
    },
    "kernelspec": {
      "name": "python3",
      "display_name": "Python 3"
    },
    "language_info": {
      "name": "python"
    }
  },
  "cells": [
    {
      "cell_type": "markdown",
      "metadata": {
        "id": "view-in-github",
        "colab_type": "text"
      },
      "source": [
        "<a href=\"https://colab.research.google.com/github/Death-Scripture/ICT120/blob/main/Introduction_on_Python(Chatbot%20by%20Jayvee%20Bacuta).ipynb\" target=\"_parent\"><img src=\"https://colab.research.google.com/assets/colab-badge.svg\" alt=\"Open In Colab\"/></a>"
      ]
    },
    {
      "cell_type": "code",
      "metadata": {
        "colab": {
          "base_uri": "https://localhost:8080/"
        },
        "id": "F4bVgsWbPu0c",
        "outputId": "0f5bd609-84c3-4c7d-a222-18bc320419fc"
      },
      "source": [
        "# Importing modules\n",
        "\n",
        "import re\n",
        "\n",
        "from nltk.corpus import wordnet\n",
        "import nltk\n",
        "nltk.download('wordnet')\n",
        "\n",
        "# Building a list of Keywords\n",
        "\n",
        "list_words=['happy','sad','angry']\n",
        "\n",
        "list_syn={}\n",
        "\n",
        "for word in list_words:\n",
        "\n",
        "    synonyms=[]\n",
        "\n",
        "    for syn in wordnet.synsets(word):\n",
        "\n",
        "        for lem in syn.lemmas():\n",
        "\n",
        "\n",
        "            # Remove any special characters from synonym strings\n",
        "\n",
        "            lem_name = re.sub('[^a-zA-Z0-9 \\n\\.]', ' ', lem.name())\n",
        "\n",
        "            synonyms.append(lem_name)\n",
        "\n",
        "\n",
        "    list_syn[word]=set(synonyms)\n",
        "\n",
        "print (list_syn)\n",
        "\n",
        "keywords={}\n",
        "keywords_dict ={}\n",
        "\n",
        "keywords ['glad'] = []\n",
        "\n",
        "for synonym in list(list_syn['happy']):\n",
        "    keywords['glad'].append('.*\\\\b'+synonym+'\\\\b.*')\n",
        "\n",
        "keywords ['dissapointed'] = []\n",
        "\n",
        "for synonym in list(list_syn['sad']):\n",
        "    keywords['dissapointed'].append('.*\\\\b'+synonym+'\\\\b.*')\n",
        "\n",
        "keywords ['mad'] = []\n",
        "\n",
        "for synonym in list(list_syn['angry']):\n",
        "    keywords['mad'].append('.*\\\\b'+synonym+'\\\\b.*')\n",
        "\n",
        "for intent, keys in keywords.items():\n",
        "\n",
        "\n",
        "       keywords_dict[intent]=re.compile('|'.join(keys))\n",
        "\n",
        "print (keywords_dict)\n",
        "\n",
        "responses = {\n",
        "      'glad' : ' We are glad that you are happy with our service.',\n",
        "      'dissapointed' : 'We are sorry to hear that. We sincerely apologize for the inconvenience. ',\n",
        "      'mad' : 'We sincerely understand how you feel.How do you want us to approach this problem?',\n",
        "      'ask' : 'How can I open a bank account?',\n",
        "      'fallback':'I dont quite understand. Could you repeat that?',\n",
        "}\n",
        "\n",
        "print (\"Welcome to MyBank. How may I help you?\")\n",
        "\n",
        "\n",
        "while (True):\n",
        "\n",
        "      user_input = input().lower()\n",
        "\n",
        "      if user_input == 'quit' :\n",
        "          print (\"Thank you.\")\n",
        "          break\n",
        "\n",
        "      matched_intent = None\n",
        "\n",
        "      for intent,pattern in keywords_dict.items():\n",
        "\n",
        "            if re.search(pattern, user_input):\n",
        "                matched_intent=intent\n",
        "\n",
        "      key='fallback'\n",
        "      if matched_intent in responses:\n",
        "          key = matched_intent\n",
        "\n",
        "\n",
        "      print (responses[key])\n",
        "        \n",
        " \n",
        "\n"
      ],
      "execution_count": null,
      "outputs": [
        {
          "output_type": "stream",
          "text": [
            "[nltk_data] Downloading package wordnet to /root/nltk_data...\n",
            "[nltk_data]   Package wordnet is already up-to-date!\n",
            "{'happy': {'felicitous', 'happy', 'glad', 'well chosen'}, 'sad': {'pitiful', 'deplorable', 'distressing', 'sad', 'sorry', 'lamentable'}, 'angry': {'furious', 'raging', 'tempestuous', 'angry', 'wild'}}\n",
            "{'glad': re.compile('.*\\\\bfelicitous\\\\b.*|.*\\\\bhappy\\\\b.*|.*\\\\bglad\\\\b.*|.*\\\\bwell chosen\\\\b.*'), 'dissapointed': re.compile('.*\\\\bpitiful\\\\b.*|.*\\\\bdeplorable\\\\b.*|.*\\\\bdistressing\\\\b.*|.*\\\\bsad\\\\b.*|.*\\\\bsorry\\\\b.*|.*\\\\blamentable\\\\b.*'), 'mad': re.compile('.*\\\\bfurious\\\\b.*|.*\\\\braging\\\\b.*|.*\\\\btempestuous\\\\b.*|.*\\\\bangry\\\\b.*|.*\\\\bwild\\\\b.*')}\n",
            "Welcome to MyBank. How may I help you?\n"
          ],
          "name": "stdout"
        }
      ]
    }
  ]
}